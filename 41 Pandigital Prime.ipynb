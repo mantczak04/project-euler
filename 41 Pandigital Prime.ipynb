{
  "metadata": {
    "kernelspec": {
      "name": "python",
      "display_name": "Python (Pyodide)",
      "language": "python"
    },
    "language_info": {
      "codemirror_mode": {
        "name": "python",
        "version": 3
      },
      "file_extension": ".py",
      "mimetype": "text/x-python",
      "name": "python",
      "nbconvert_exporter": "python",
      "pygments_lexer": "ipython3",
      "version": "3.8"
    }
  },
  "nbformat_minor": 4,
  "nbformat": 4,
  "cells": [
    {
      "cell_type": "markdown",
      "source": "# 41. Pandigital Prime\n\nMy initial thought on the problem was to somehow determine the max **n** that I can use, then, check possible permutations in decreasing order and exit calculations with first (biggest) occurance of prime number.\nIn the Pandigital number, we can be sure that sum of the digits in the number will be equal to :\n$$ \n\\sum_{i=1}^{n} i = \\frac{n(n+1)}{2}\n$$\nNow, based on the features of divisibility by 3 defined by the sum of the digits in the number, we can reject **n=9** and **n=8**, as digit sums in both cases will be **45** and **36** respectively, so each of the Pandigital numbers will be divisible by 3.\n\nFor **n=7** case, the sum is equal to **28** which is not divisible by 3, thus, every Pandigital number with length of 7 has a chance to be a prime number.\nNow, just to be sure, we can estimate quantity of primes for Pandigital numbers with length of **n=7**.\n$$ \n\\pi(x) \\sim \\frac{x}{\\ln(x)}\n$$\n\nFor x = 1234567:\n\n$$\n\\pi(1234567) \\sim \\frac{1234567}{\\ln(1234567)} \\approx 74860\n$$\n\nFor x = 7654321:\n\n$$\n\\pi(7654321) \\sim \\frac{7654321}{\\ln(7654321)} \\approx 475420\n$$\n\nDifference $\\pi(7654321) - \\pi(1234567)$ would give us a quantity of primes between $1234567$ and $7654321$:\n\n$$\n475420 - 74860 = 400560\n$$\n\nSo quantity of prime numbers between \\(1234567\\) and \\(7654321\\) would be approximately **400560**.\n\nWith that, we can be pretty sure that we are able to get Pandigital Prime of length **n=7**.\nNext step is to pick a method to search for a prime.\n\n- Brute force method\n\nWe can check every non-even number from **[1234567, 7654321]**. Number of possibilities to check with this method :\n$$\n\\frac{7654321 - 1234567}{2} = 3209877\n$$\n\n- Permutations method\n\nWe can check every possible permutation of a Pandigit number with length **n=7**, with last digit equal to **1, 3, 7** or **9**. Number of possibilities to check with this method :\n$$\n4 \\times 6! = 4 \\times (6 \\times 5 \\times 4 \\times 3 \\times 2 \\times 1) = 4 \\times 720 = 2880\n$$\n\nWe can see that Permutations method would be much more efficient. Now, the only thing to do is to check permutations in decreasing order, and exit calculations when the first (biggest) prime is discovered. The code :",
      "metadata": {}
    },
    {
      "cell_type": "code",
      "source": "from itertools import permutations\nfrom sympy import isprime\n\ndef largest_pandigital_prime():\n    for n in range(7, 0, -1):  # Start from 7 and go down\n        digits = ''.join(map(str, range(1, n + 1)))\n        for perm in sorted(permutations(digits), reverse=True):\n            num = int(''.join(perm))\n            if isprime(num):\n                return num\n\n# Find the largest pandigital prime\nprint(largest_pandigital_prime())\n",
      "metadata": {
        "trusted": true
      },
      "outputs": [],
      "execution_count": null
    },
    {
      "cell_type": "markdown",
      "source": "With this code, output is **7652413** which appears to be correct answer.\nTime spent working on solution : ~36min.",
      "metadata": {}
    }
  ]
}