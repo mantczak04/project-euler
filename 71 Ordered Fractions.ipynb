{
  "metadata": {
    "kernelspec": {
      "name": "python",
      "display_name": "Python (Pyodide)",
      "language": "python"
    },
    "language_info": {
      "codemirror_mode": {
        "name": "python",
        "version": 3
      },
      "file_extension": ".py",
      "mimetype": "text/x-python",
      "name": "python",
      "nbconvert_exporter": "python",
      "pygments_lexer": "ipython3",
      "version": "3.8"
    }
  },
  "nbformat_minor": 4,
  "nbformat": 4,
  "cells": [
    {
      "cell_type": "markdown",
      "source": "# [71. Ordered Fractions](https://projecteuler.net/problem=71)\nAfter struggling for about an hour on this problem, I've discovered that 'guess' solve is really fast and simple. And propably very dumb. But hey, the question is not to create code or mathematical model for all possible cases, but to solve for that particular case. I may be wrong, but I'm pretty sure that there's no analytical way to solve this problem, so why to create numerical method algorithm that will check multiple guesses, if I just can guess the number myself in like ~2 minutes? As I said, this 'solve' might be very dumb. But it worked.",
      "metadata": {}
    },
    {
      "cell_type": "markdown",
      "source": "We are looking for the maximum number $\\frac{n}{d}$ in the subset of numbers **less than** $\\frac{3}{7}$ satisfying the conditions:\n\n- $d\\leq 10^6$\n- $\\text{HCF}(n,d) = 1 $",
      "metadata": {}
    },
    {
      "cell_type": "markdown",
      "source": "With those conditions, we can assume that $d$ would be around $10^6$ and $n$ would be less than $428571$. Now let's guess by checking values that meet $\\text{HCF}(n,d) = 1 $ condition:",
      "metadata": {}
    },
    {
      "cell_type": "markdown",
      "source": "- For $(428570, 1000000)$ the $GCF(n,d) = 10$\n- For $(428570, 999999)$ the $GCF(n,d) = 1$, so we can assume that this is valid answer, becase it is the highest possible pair of $(n,d)$ that meet the conditions.",
      "metadata": {}
    },
    {
      "cell_type": "markdown",
      "source": "As I said, it's really dumb 'solution' (if we can even call it like that), but I am pretty sure that this way of solving it is the fastest, since there's no analytical way to approach the correct answer.",
      "metadata": {}
    },
    {
      "cell_type": "markdown",
      "source": "One day I will solve this problem in a more proper way.\nTime spent working on solution: ~1h 20min.",
      "metadata": {}
    }
  ]
}